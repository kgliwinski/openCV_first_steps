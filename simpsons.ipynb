{
 "cells": [
  {
   "cell_type": "code",
   "execution_count": 1,
   "id": "1d2e6920",
   "metadata": {
    "_cell_guid": "b1076dfc-b9ad-4769-8c92-a6c4dae69d19",
    "_kg_hide-output": true,
    "_uuid": "8f2839f25d086af736a60e9eeb907d3b93b6e0e5",
    "execution": {
     "iopub.execute_input": "2023-02-26T23:50:36.496433Z",
     "iopub.status.busy": "2023-02-26T23:50:36.495548Z",
     "iopub.status.idle": "2023-02-26T23:51:00.496878Z",
     "shell.execute_reply": "2023-02-26T23:51:00.495145Z"
    },
    "papermill": {
     "duration": 24.012445,
     "end_time": "2023-02-26T23:51:00.500429",
     "exception": false,
     "start_time": "2023-02-26T23:50:36.487984",
     "status": "completed"
    },
    "tags": []
   },
   "outputs": [
    {
     "name": "stdout",
     "output_type": "stream",
     "text": [
      "Collecting caer\r\n",
      "  Downloading caer-2.0.8-py3-none-any.whl (809 kB)\r\n",
      "\u001b[2K     \u001b[90m━━━━━━━━━━━━━━━━━━━━━━━━━━━━━━━━━━━━━━━\u001b[0m \u001b[32m809.5/809.5 kB\u001b[0m \u001b[31m6.7 MB/s\u001b[0m eta \u001b[36m0:00:00\u001b[0m\r\n",
      "\u001b[?25hCollecting canaro\r\n",
      "  Downloading canaro-1.1.0-py3-none-any.whl (19 kB)\r\n",
      "Requirement already satisfied: numpy in /opt/conda/lib/python3.7/site-packages (from caer) (1.21.6)\r\n",
      "Requirement already satisfied: typing-extensions in /opt/conda/lib/python3.7/site-packages (from caer) (4.4.0)\r\n",
      "Requirement already satisfied: opencv-contrib-python in /opt/conda/lib/python3.7/site-packages (from caer) (4.5.4.60)\r\n",
      "Collecting mypy\r\n",
      "  Downloading mypy-1.0.1-cp37-cp37m-manylinux_2_17_x86_64.manylinux2014_x86_64.whl (15.8 MB)\r\n",
      "\u001b[2K     \u001b[90m━━━━━━━━━━━━━━━━━━━━━━━━━━━━━━━━━━━━━━━━\u001b[0m \u001b[32m15.8/15.8 MB\u001b[0m \u001b[31m56.6 MB/s\u001b[0m eta \u001b[36m0:00:00\u001b[0m\r\n",
      "\u001b[?25hRequirement already satisfied: tensorflow in /opt/conda/lib/python3.7/site-packages (from canaro) (2.11.0)\r\n",
      "Requirement already satisfied: typed-ast<2,>=1.4.0 in /opt/conda/lib/python3.7/site-packages (from mypy->caer) (1.5.4)\r\n",
      "Collecting mypy-extensions>=0.4.3\r\n",
      "  Downloading mypy_extensions-1.0.0-py3-none-any.whl (4.7 kB)\r\n",
      "Requirement already satisfied: tomli>=1.1.0 in /opt/conda/lib/python3.7/site-packages (from mypy->caer) (2.0.1)\r\n",
      "Requirement already satisfied: grpcio<2.0,>=1.24.3 in /opt/conda/lib/python3.7/site-packages (from tensorflow->canaro) (1.51.1)\r\n",
      "Requirement already satisfied: termcolor>=1.1.0 in /opt/conda/lib/python3.7/site-packages (from tensorflow->canaro) (2.2.0)\r\n",
      "Requirement already satisfied: astunparse>=1.6.0 in /opt/conda/lib/python3.7/site-packages (from tensorflow->canaro) (1.6.3)\r\n",
      "Requirement already satisfied: tensorboard<2.12,>=2.11 in /opt/conda/lib/python3.7/site-packages (from tensorflow->canaro) (2.11.2)\r\n",
      "Requirement already satisfied: opt-einsum>=2.3.2 in /opt/conda/lib/python3.7/site-packages (from tensorflow->canaro) (3.3.0)\r\n",
      "Collecting protobuf<3.20,>=3.9.2\r\n",
      "  Downloading protobuf-3.19.6-cp37-cp37m-manylinux_2_17_x86_64.manylinux2014_x86_64.whl (1.1 MB)\r\n",
      "\u001b[2K     \u001b[90m━━━━━━━━━━━━━━━━━━━━━━━━━━━━━━━━━━━━━━━━\u001b[0m \u001b[32m1.1/1.1 MB\u001b[0m \u001b[31m54.8 MB/s\u001b[0m eta \u001b[36m0:00:00\u001b[0m\r\n",
      "\u001b[?25hRequirement already satisfied: wrapt>=1.11.0 in /opt/conda/lib/python3.7/site-packages (from tensorflow->canaro) (1.14.1)\r\n",
      "Requirement already satisfied: keras<2.12,>=2.11.0 in /opt/conda/lib/python3.7/site-packages (from tensorflow->canaro) (2.11.0)\r\n",
      "Requirement already satisfied: flatbuffers>=2.0 in /opt/conda/lib/python3.7/site-packages (from tensorflow->canaro) (23.1.21)\r\n",
      "Requirement already satisfied: libclang>=13.0.0 in /opt/conda/lib/python3.7/site-packages (from tensorflow->canaro) (15.0.6.1)\r\n",
      "Requirement already satisfied: packaging in /opt/conda/lib/python3.7/site-packages (from tensorflow->canaro) (23.0)\r\n",
      "Requirement already satisfied: tensorflow-estimator<2.12,>=2.11.0 in /opt/conda/lib/python3.7/site-packages (from tensorflow->canaro) (2.11.0)\r\n",
      "Requirement already satisfied: tensorflow-io-gcs-filesystem>=0.23.1 in /opt/conda/lib/python3.7/site-packages (from tensorflow->canaro) (0.29.0)\r\n",
      "Requirement already satisfied: setuptools in /opt/conda/lib/python3.7/site-packages (from tensorflow->canaro) (59.8.0)\r\n",
      "Requirement already satisfied: google-pasta>=0.1.1 in /opt/conda/lib/python3.7/site-packages (from tensorflow->canaro) (0.2.0)\r\n",
      "Requirement already satisfied: absl-py>=1.0.0 in /opt/conda/lib/python3.7/site-packages (from tensorflow->canaro) (1.4.0)\r\n",
      "Requirement already satisfied: h5py>=2.9.0 in /opt/conda/lib/python3.7/site-packages (from tensorflow->canaro) (3.8.0)\r\n",
      "Requirement already satisfied: gast<=0.4.0,>=0.2.1 in /opt/conda/lib/python3.7/site-packages (from tensorflow->canaro) (0.4.0)\r\n",
      "Requirement already satisfied: six>=1.12.0 in /opt/conda/lib/python3.7/site-packages (from tensorflow->canaro) (1.16.0)\r\n",
      "Requirement already satisfied: wheel<1.0,>=0.23.0 in /opt/conda/lib/python3.7/site-packages (from astunparse>=1.6.0->tensorflow->canaro) (0.38.4)\r\n",
      "Requirement already satisfied: werkzeug>=1.0.1 in /opt/conda/lib/python3.7/site-packages (from tensorboard<2.12,>=2.11->tensorflow->canaro) (2.2.3)\r\n",
      "Requirement already satisfied: markdown>=2.6.8 in /opt/conda/lib/python3.7/site-packages (from tensorboard<2.12,>=2.11->tensorflow->canaro) (3.4.1)\r\n",
      "Requirement already satisfied: tensorboard-plugin-wit>=1.6.0 in /opt/conda/lib/python3.7/site-packages (from tensorboard<2.12,>=2.11->tensorflow->canaro) (1.8.1)\r\n",
      "Requirement already satisfied: requests<3,>=2.21.0 in /opt/conda/lib/python3.7/site-packages (from tensorboard<2.12,>=2.11->tensorflow->canaro) (2.28.2)\r\n",
      "Requirement already satisfied: tensorboard-data-server<0.7.0,>=0.6.0 in /opt/conda/lib/python3.7/site-packages (from tensorboard<2.12,>=2.11->tensorflow->canaro) (0.6.1)\r\n",
      "Requirement already satisfied: google-auth-oauthlib<0.5,>=0.4.1 in /opt/conda/lib/python3.7/site-packages (from tensorboard<2.12,>=2.11->tensorflow->canaro) (0.4.6)\r\n",
      "Requirement already satisfied: google-auth<3,>=1.6.3 in /opt/conda/lib/python3.7/site-packages (from tensorboard<2.12,>=2.11->tensorflow->canaro) (1.35.0)\r\n",
      "Requirement already satisfied: rsa<5,>=3.1.4 in /opt/conda/lib/python3.7/site-packages (from google-auth<3,>=1.6.3->tensorboard<2.12,>=2.11->tensorflow->canaro) (4.9)\r\n",
      "Requirement already satisfied: cachetools<5.0,>=2.0.0 in /opt/conda/lib/python3.7/site-packages (from google-auth<3,>=1.6.3->tensorboard<2.12,>=2.11->tensorflow->canaro) (4.2.4)\r\n",
      "Requirement already satisfied: pyasn1-modules>=0.2.1 in /opt/conda/lib/python3.7/site-packages (from google-auth<3,>=1.6.3->tensorboard<2.12,>=2.11->tensorflow->canaro) (0.2.8)\r\n",
      "Requirement already satisfied: requests-oauthlib>=0.7.0 in /opt/conda/lib/python3.7/site-packages (from google-auth-oauthlib<0.5,>=0.4.1->tensorboard<2.12,>=2.11->tensorflow->canaro) (1.3.1)\r\n",
      "Requirement already satisfied: importlib-metadata>=4.4 in /opt/conda/lib/python3.7/site-packages (from markdown>=2.6.8->tensorboard<2.12,>=2.11->tensorflow->canaro) (4.11.4)\r\n",
      "Requirement already satisfied: charset-normalizer<4,>=2 in /opt/conda/lib/python3.7/site-packages (from requests<3,>=2.21.0->tensorboard<2.12,>=2.11->tensorflow->canaro) (2.1.1)\r\n",
      "Requirement already satisfied: urllib3<1.27,>=1.21.1 in /opt/conda/lib/python3.7/site-packages (from requests<3,>=2.21.0->tensorboard<2.12,>=2.11->tensorflow->canaro) (1.26.14)\r\n",
      "Requirement already satisfied: idna<4,>=2.5 in /opt/conda/lib/python3.7/site-packages (from requests<3,>=2.21.0->tensorboard<2.12,>=2.11->tensorflow->canaro) (3.4)\r\n",
      "Requirement already satisfied: certifi>=2017.4.17 in /opt/conda/lib/python3.7/site-packages (from requests<3,>=2.21.0->tensorboard<2.12,>=2.11->tensorflow->canaro) (2022.12.7)\r\n",
      "Requirement already satisfied: MarkupSafe>=2.1.1 in /opt/conda/lib/python3.7/site-packages (from werkzeug>=1.0.1->tensorboard<2.12,>=2.11->tensorflow->canaro) (2.1.1)\r\n",
      "Requirement already satisfied: zipp>=0.5 in /opt/conda/lib/python3.7/site-packages (from importlib-metadata>=4.4->markdown>=2.6.8->tensorboard<2.12,>=2.11->tensorflow->canaro) (3.11.0)\r\n",
      "Requirement already satisfied: pyasn1<0.5.0,>=0.4.6 in /opt/conda/lib/python3.7/site-packages (from pyasn1-modules>=0.2.1->google-auth<3,>=1.6.3->tensorboard<2.12,>=2.11->tensorflow->canaro) (0.4.8)\r\n",
      "Requirement already satisfied: oauthlib>=3.0.0 in /opt/conda/lib/python3.7/site-packages (from requests-oauthlib>=0.7.0->google-auth-oauthlib<0.5,>=0.4.1->tensorboard<2.12,>=2.11->tensorflow->canaro) (3.2.2)\r\n",
      "Installing collected packages: protobuf, mypy-extensions, mypy, caer, canaro\r\n",
      "  Attempting uninstall: protobuf\r\n",
      "    Found existing installation: protobuf 3.20.3\r\n",
      "    Uninstalling protobuf-3.20.3:\r\n",
      "      Successfully uninstalled protobuf-3.20.3\r\n",
      "\u001b[31mERROR: pip's dependency resolver does not currently take into account all the packages that are installed. This behaviour is the source of the following dependency conflicts.\r\n",
      "cudf 21.12.2 requires cupy-cuda115, which is not installed.\r\n",
      "tfx-bsl 1.12.0 requires google-api-python-client<2,>=1.7.11, but you have google-api-python-client 2.79.0 which is incompatible.\r\n",
      "tfx-bsl 1.12.0 requires pyarrow<7,>=6, but you have pyarrow 5.0.0 which is incompatible.\r\n",
      "tensorflow-transform 1.12.0 requires pyarrow<7,>=6, but you have pyarrow 5.0.0 which is incompatible.\r\n",
      "onnx 1.13.1 requires protobuf<4,>=3.20.2, but you have protobuf 3.19.6 which is incompatible.\r\n",
      "apache-beam 2.44.0 requires dill<0.3.2,>=0.3.1.1, but you have dill 0.3.6 which is incompatible.\u001b[0m\u001b[31m\r\n",
      "\u001b[0mSuccessfully installed caer-2.0.8 canaro-1.1.0 mypy-1.0.1 mypy-extensions-1.0.0 protobuf-3.19.6\r\n",
      "\u001b[33mWARNING: Running pip as the 'root' user can result in broken permissions and conflicting behaviour with the system package manager. It is recommended to use a virtual environment instead: https://pip.pypa.io/warnings/venv\u001b[0m\u001b[33m\r\n",
      "\u001b[0mNote: you may need to restart the kernel to use updated packages.\n"
     ]
    }
   ],
   "source": [
    "pip install caer canaro"
   ]
  },
  {
   "cell_type": "code",
   "execution_count": 2,
   "id": "6de8d064",
   "metadata": {
    "execution": {
     "iopub.execute_input": "2023-02-26T23:51:00.517262Z",
     "iopub.status.busy": "2023-02-26T23:51:00.516860Z",
     "iopub.status.idle": "2023-02-26T23:51:08.058887Z",
     "shell.execute_reply": "2023-02-26T23:51:08.057577Z"
    },
    "papermill": {
     "duration": 7.553453,
     "end_time": "2023-02-26T23:51:08.061839",
     "exception": false,
     "start_time": "2023-02-26T23:51:00.508386",
     "status": "completed"
    },
    "tags": []
   },
   "outputs": [],
   "source": [
    "import os\n",
    "import caer\n",
    "import canaro\n",
    "import numpy as np\n",
    "import cv2 as cv\n",
    "import gc"
   ]
  },
  {
   "cell_type": "markdown",
   "id": "613d0629",
   "metadata": {
    "papermill": {
     "duration": 0.006559,
     "end_time": "2023-02-26T23:51:08.074941",
     "exception": false,
     "start_time": "2023-02-26T23:51:08.068382",
     "status": "completed"
    },
    "tags": []
   },
   "source": [
    "### Setting some basic constants, such as the used IMG_SIZE, required channels, and the path to the actual dataset"
   ]
  },
  {
   "cell_type": "code",
   "execution_count": 3,
   "id": "39fbba1b",
   "metadata": {
    "execution": {
     "iopub.execute_input": "2023-02-26T23:51:08.089481Z",
     "iopub.status.busy": "2023-02-26T23:51:08.088801Z",
     "iopub.status.idle": "2023-02-26T23:51:08.095203Z",
     "shell.execute_reply": "2023-02-26T23:51:08.094199Z"
    },
    "papermill": {
     "duration": 0.01618,
     "end_time": "2023-02-26T23:51:08.097451",
     "exception": false,
     "start_time": "2023-02-26T23:51:08.081271",
     "status": "completed"
    },
    "tags": []
   },
   "outputs": [],
   "source": [
    "IMG_SIZE = (80,80) # the usual size of images in the simpsons dataset\n",
    "channels = 1 # we do not require color in our images\n",
    "char_path = r'/kaggle/input/the-simpsons-characters-dataset/simpsons_dataset'"
   ]
  },
  {
   "cell_type": "markdown",
   "id": "c445df41",
   "metadata": {
    "papermill": {
     "duration": 0.006275,
     "end_time": "2023-02-26T23:51:08.110612",
     "exception": false,
     "start_time": "2023-02-26T23:51:08.104337",
     "status": "completed"
    },
    "tags": []
   },
   "source": [
    "Getting the top 10 datasets with most images"
   ]
  },
  {
   "cell_type": "code",
   "execution_count": 4,
   "id": "4d8197d9",
   "metadata": {
    "execution": {
     "iopub.execute_input": "2023-02-26T23:51:08.124574Z",
     "iopub.status.busy": "2023-02-26T23:51:08.124205Z",
     "iopub.status.idle": "2023-02-26T23:51:10.019275Z",
     "shell.execute_reply": "2023-02-26T23:51:10.018235Z"
    },
    "papermill": {
     "duration": 1.905932,
     "end_time": "2023-02-26T23:51:10.022614",
     "exception": false,
     "start_time": "2023-02-26T23:51:08.116682",
     "status": "completed"
    },
    "tags": []
   },
   "outputs": [
    {
     "data": {
      "text/plain": [
       "[('homer_simpson', 2246),\n",
       " ('ned_flanders', 1454),\n",
       " ('moe_szyslak', 1452),\n",
       " ('lisa_simpson', 1354),\n",
       " ('bart_simpson', 1342),\n",
       " ('marge_simpson', 1291),\n",
       " ('krusty_the_clown', 1206),\n",
       " ('principal_skinner', 1194),\n",
       " ('charles_montgomery_burns', 1193),\n",
       " ('milhouse_van_houten', 1079),\n",
       " ('chief_wiggum', 986),\n",
       " ('abraham_grampa_simpson', 913),\n",
       " ('sideshow_bob', 877),\n",
       " ('apu_nahasapeemapetilon', 623),\n",
       " ('kent_brockman', 498),\n",
       " ('comic_book_guy', 469),\n",
       " ('edna_krabappel', 457),\n",
       " ('nelson_muntz', 358),\n",
       " ('lenny_leonard', 310),\n",
       " ('mayor_quimby', 246),\n",
       " ('waylon_smithers', 181),\n",
       " ('maggie_simpson', 128),\n",
       " ('groundskeeper_willie', 121),\n",
       " ('barney_gumble', 106),\n",
       " ('selma_bouvier', 103),\n",
       " ('carl_carlson', 98),\n",
       " ('ralph_wiggum', 89),\n",
       " ('patty_bouvier', 72),\n",
       " ('martin_prince', 71),\n",
       " ('professor_john_frink', 65),\n",
       " ('snake_jailbird', 55),\n",
       " ('cletus_spuckler', 47),\n",
       " ('rainier_wolfcastle', 45),\n",
       " ('simpsons_dataset', 42),\n",
       " ('agnes_skinner', 42),\n",
       " ('sideshow_mel', 40),\n",
       " ('otto_mann', 32),\n",
       " ('fat_tony', 27),\n",
       " ('gil', 27),\n",
       " ('miss_hoover', 17),\n",
       " ('disco_stu', 8),\n",
       " ('troy_mcclure', 8),\n",
       " ('lionel_hutz', 3)]"
      ]
     },
     "execution_count": 4,
     "metadata": {},
     "output_type": "execute_result"
    }
   ],
   "source": [
    "char_dict = {}\n",
    "for char in os.listdir(char_path):\n",
    "    char_dict[char] = len(os.listdir(os.path.join(char_path, char)))\n",
    "    \n",
    "# Sorting the dictionary in descending order\n",
    "char_dict = caer.sort_dict(char_dict, descending=True)\n",
    "char_dict"
   ]
  },
  {
   "cell_type": "markdown",
   "id": "0fbdbc06",
   "metadata": {
    "papermill": {
     "duration": 0.010746,
     "end_time": "2023-02-26T23:51:10.044316",
     "exception": false,
     "start_time": "2023-02-26T23:51:10.033570",
     "status": "completed"
    },
    "tags": []
   },
   "source": [
    "Getting the top 10 elements, storing it in the characters list"
   ]
  },
  {
   "cell_type": "code",
   "execution_count": 5,
   "id": "a69c8bbc",
   "metadata": {
    "execution": {
     "iopub.execute_input": "2023-02-26T23:51:10.067597Z",
     "iopub.status.busy": "2023-02-26T23:51:10.066986Z",
     "iopub.status.idle": "2023-02-26T23:51:10.079359Z",
     "shell.execute_reply": "2023-02-26T23:51:10.078277Z"
    },
    "papermill": {
     "duration": 0.02766,
     "end_time": "2023-02-26T23:51:10.082544",
     "exception": false,
     "start_time": "2023-02-26T23:51:10.054884",
     "status": "completed"
    },
    "tags": []
   },
   "outputs": [
    {
     "data": {
      "text/plain": [
       "['homer_simpson',\n",
       " 'ned_flanders',\n",
       " 'moe_szyslak',\n",
       " 'lisa_simpson',\n",
       " 'bart_simpson',\n",
       " 'marge_simpson',\n",
       " 'krusty_the_clown',\n",
       " 'principal_skinner',\n",
       " 'charles_montgomery_burns',\n",
       " 'milhouse_van_houten']"
      ]
     },
     "execution_count": 5,
     "metadata": {},
     "output_type": "execute_result"
    }
   ],
   "source": [
    "characters = [character[0] for i, character in enumerate(char_dict) if i < 10 ]\n",
    "characters"
   ]
  },
  {
   "cell_type": "markdown",
   "id": "44d462c5",
   "metadata": {
    "papermill": {
     "duration": 0.00984,
     "end_time": "2023-02-26T23:51:10.103299",
     "exception": false,
     "start_time": "2023-02-26T23:51:10.093459",
     "status": "completed"
    },
    "tags": []
   },
   "source": [
    "## Creating the training data"
   ]
  },
  {
   "cell_type": "code",
   "execution_count": 6,
   "id": "0993c47e",
   "metadata": {
    "execution": {
     "iopub.execute_input": "2023-02-26T23:51:10.126424Z",
     "iopub.status.busy": "2023-02-26T23:51:10.125884Z",
     "iopub.status.idle": "2023-02-26T23:52:47.399838Z",
     "shell.execute_reply": "2023-02-26T23:52:47.398140Z"
    },
    "papermill": {
     "duration": 97.288516,
     "end_time": "2023-02-26T23:52:47.402133",
     "exception": false,
     "start_time": "2023-02-26T23:51:10.113617",
     "status": "completed"
    },
    "tags": []
   },
   "outputs": [
    {
     "name": "stdout",
     "output_type": "stream",
     "text": [
      "[INFO] Could not find a file to load from. Generating the training data\n",
      "----------------------------------------------\n",
      "[INFO] At 1000 files\n",
      "[INFO] At 2000 files\n",
      "[INFO] 2246 files found in 0.9768400192260742s\n",
      "[INFO] At 1000 files\n",
      "[INFO] 1454 files found in 0.29126477241516113s\n",
      "[INFO] At 1000 files\n",
      "[INFO] 1452 files found in 0.30327510833740234s\n",
      "[INFO] At 1000 files\n",
      "[INFO] 1354 files found in 0.22251152992248535s\n",
      "[INFO] At 1000 files\n",
      "[INFO] 1342 files found in 0.1977376937866211s\n",
      "[INFO] At 1000 files\n",
      "[INFO] 1291 files found in 0.16274547576904297s\n",
      "[INFO] At 1000 files\n",
      "[INFO] 1206 files found in 0.0675954818725586s\n",
      "[INFO] At 1000 files\n",
      "[INFO] 1194 files found in 0.06188511848449707s\n",
      "[INFO] At 1000 files\n",
      "[INFO] 1193 files found in 0.06424689292907715s\n",
      "[INFO] At 1000 files\n",
      "[INFO] 1079 files found in 0.004279613494873047s\n",
      "----------------------------------------------\n",
      "[INFO] 13811 files preprocessed! Took 1m 37s\n"
     ]
    }
   ],
   "source": [
    "# Going through every folder in the char_path, looking for every element inside characters, \n",
    "# When it finds a 'homer_simpson' it will grab every photo and store it to train the model on\n",
    "train = caer.preprocess_from_dir(char_path, characters, channels=channels, IMG_SIZE=IMG_SIZE, isShuffle=True)\n",
    "\n"
   ]
  },
  {
   "cell_type": "code",
   "execution_count": 7,
   "id": "1de2de8e",
   "metadata": {
    "execution": {
     "iopub.execute_input": "2023-02-26T23:52:47.419890Z",
     "iopub.status.busy": "2023-02-26T23:52:47.419484Z",
     "iopub.status.idle": "2023-02-26T23:52:47.426229Z",
     "shell.execute_reply": "2023-02-26T23:52:47.425063Z"
    },
    "papermill": {
     "duration": 0.019248,
     "end_time": "2023-02-26T23:52:47.429997",
     "exception": false,
     "start_time": "2023-02-26T23:52:47.410749",
     "status": "completed"
    },
    "tags": []
   },
   "outputs": [
    {
     "data": {
      "text/plain": [
       "13811"
      ]
     },
     "execution_count": 7,
     "metadata": {},
     "output_type": "execute_result"
    }
   ],
   "source": [
    "len(train)"
   ]
  },
  {
   "cell_type": "code",
   "execution_count": 8,
   "id": "6b18b339",
   "metadata": {
    "execution": {
     "iopub.execute_input": "2023-02-26T23:52:47.447280Z",
     "iopub.status.busy": "2023-02-26T23:52:47.446352Z",
     "iopub.status.idle": "2023-02-26T23:52:48.529638Z",
     "shell.execute_reply": "2023-02-26T23:52:48.528582Z"
    },
    "papermill": {
     "duration": 1.094793,
     "end_time": "2023-02-26T23:52:48.532231",
     "exception": false,
     "start_time": "2023-02-26T23:52:47.437438",
     "status": "completed"
    },
    "tags": []
   },
   "outputs": [
    {
     "data": {
      "image/png": "[encoded data removed]",
      "text/plain": [
       "<Figure size 3000x3000 with 1 Axes>"
      ]
     },
     "metadata": {},
     "output_type": "display_data"
    }
   ],
   "source": [
    "import matplotlib.pyplot as plt\n",
    "plt.figure(figsize=(30,30))\n",
    "plt.imshow(train[0][0], cmap='gray')\n",
    "plt.show()"
   ]
  },
  {
   "cell_type": "markdown",
   "id": "50069643",
   "metadata": {
    "papermill": {
     "duration": 0.008004,
     "end_time": "2023-02-26T23:52:48.548673",
     "exception": false,
     "start_time": "2023-02-26T23:52:48.540669",
     "status": "completed"
    },
    "tags": []
   },
   "source": [
    "## Separating the training set into features and labels\n",
    "Currently its just a list of a lot of lists inside them"
   ]
  },
  {
   "cell_type": "code",
   "execution_count": 9,
   "id": "7cef262b",
   "metadata": {
    "execution": {
     "iopub.execute_input": "2023-02-26T23:52:48.566547Z",
     "iopub.status.busy": "2023-02-26T23:52:48.566146Z",
     "iopub.status.idle": "2023-02-26T23:52:48.621323Z",
     "shell.execute_reply": "2023-02-26T23:52:48.620164Z"
    },
    "papermill": {
     "duration": 0.067409,
     "end_time": "2023-02-26T23:52:48.624184",
     "exception": false,
     "start_time": "2023-02-26T23:52:48.556775",
     "status": "completed"
    },
    "tags": []
   },
   "outputs": [],
   "source": [
    "featureSet, labels = caer.sep_train(train, IMG_SIZE=IMG_SIZE)"
   ]
  },
  {
   "cell_type": "markdown",
   "id": "cf2fe7c0",
   "metadata": {
    "papermill": {
     "duration": 0.008106,
     "end_time": "2023-02-26T23:52:48.640838",
     "exception": false,
     "start_time": "2023-02-26T23:52:48.632732",
     "status": "completed"
    },
    "tags": []
   },
   "source": [
    "## Normalizing the feature set\n",
    "Normalizing the data to be in the range to (0,1) -> makes training way faster"
   ]
  },
  {
   "cell_type": "code",
   "execution_count": 10,
   "id": "306ab4d5",
   "metadata": {
    "execution": {
     "iopub.execute_input": "2023-02-26T23:52:48.659561Z",
     "iopub.status.busy": "2023-02-26T23:52:48.659167Z",
     "iopub.status.idle": "2023-02-26T23:52:48.785684Z",
     "shell.execute_reply": "2023-02-26T23:52:48.784554Z"
    },
    "papermill": {
     "duration": 0.139441,
     "end_time": "2023-02-26T23:52:48.788674",
     "exception": false,
     "start_time": "2023-02-26T23:52:48.649233",
     "status": "completed"
    },
    "tags": []
   },
   "outputs": [],
   "source": [
    "from tensorflow.keras.utils import to_categorical\n",
    "featureSet = caer.normalize(featureSet)\n",
    "\n",
    "labels = to_categorical(labels, len(characters))"
   ]
  },
  {
   "cell_type": "markdown",
   "id": "d562e1b8",
   "metadata": {
    "papermill": {
     "duration": 0.008027,
     "end_time": "2023-02-26T23:52:48.805114",
     "exception": false,
     "start_time": "2023-02-26T23:52:48.797087",
     "status": "completed"
    },
    "tags": []
   },
   "source": [
    "## Creating a training and validation data"
   ]
  },
  {
   "cell_type": "code",
   "execution_count": 11,
   "id": "1d098f70",
   "metadata": {
    "execution": {
     "iopub.execute_input": "2023-02-26T23:52:48.823582Z",
     "iopub.status.busy": "2023-02-26T23:52:48.823186Z",
     "iopub.status.idle": "2023-02-26T23:52:49.167581Z",
     "shell.execute_reply": "2023-02-26T23:52:49.166433Z"
    },
    "papermill": {
     "duration": 0.356835,
     "end_time": "2023-02-26T23:52:49.170329",
     "exception": false,
     "start_time": "2023-02-26T23:52:48.813494",
     "status": "completed"
    },
    "tags": []
   },
   "outputs": [],
   "source": [
    "# Splitting the training and validation sets with the .2 val_ratio\n",
    "# 20% goes to the validation set, the rest to the train set\n",
    "x_train, x_val, y_train, y_val = caer.train_val_split(featureSet, labels, val_ratio=.2)"
   ]
  },
  {
   "cell_type": "code",
   "execution_count": 12,
   "id": "ebf05be2",
   "metadata": {
    "execution": {
     "iopub.execute_input": "2023-02-26T23:52:49.188213Z",
     "iopub.status.busy": "2023-02-26T23:52:49.187488Z",
     "iopub.status.idle": "2023-02-26T23:52:49.403339Z",
     "shell.execute_reply": "2023-02-26T23:52:49.402034Z"
    },
    "papermill": {
     "duration": 0.228029,
     "end_time": "2023-02-26T23:52:49.406580",
     "exception": false,
     "start_time": "2023-02-26T23:52:49.178551",
     "status": "completed"
    },
    "tags": []
   },
   "outputs": [
    {
     "data": {
      "text/plain": [
       "21"
      ]
     },
     "execution_count": 12,
     "metadata": {},
     "output_type": "execute_result"
    }
   ],
   "source": [
    "del train\n",
    "del featureSet\n",
    "del labels\n",
    "gc.collect()"
   ]
  },
  {
   "cell_type": "markdown",
   "id": "51dc17df",
   "metadata": {
    "papermill": {
     "duration": 0.008608,
     "end_time": "2023-02-26T23:52:49.423988",
     "exception": false,
     "start_time": "2023-02-26T23:52:49.415380",
     "status": "completed"
    },
    "tags": []
   },
   "source": [
    "## Creating the image data generator\n",
    "An image generator that will synthesise new images from existing images, to randomize the network, makes it perform better"
   ]
  },
  {
   "cell_type": "code",
   "execution_count": 13,
   "id": "53cebc95",
   "metadata": {
    "execution": {
     "iopub.execute_input": "2023-02-26T23:52:49.443797Z",
     "iopub.status.busy": "2023-02-26T23:52:49.442712Z",
     "iopub.status.idle": "2023-02-26T23:52:49.449780Z",
     "shell.execute_reply": "2023-02-26T23:52:49.448750Z"
    },
    "papermill": {
     "duration": 0.019446,
     "end_time": "2023-02-26T23:52:49.452216",
     "exception": false,
     "start_time": "2023-02-26T23:52:49.432770",
     "status": "completed"
    },
    "tags": []
   },
   "outputs": [],
   "source": [
    "BATCH_SIZE = 32\n",
    "EPOCHS = 10\n",
    "datagen = canaro.generators.imageDataGenerator()\n",
    "train_gen = datagen.flow(x_train, y_train, batch_size=BATCH_SIZE)"
   ]
  },
  {
   "cell_type": "markdown",
   "id": "4eb846ad",
   "metadata": {
    "papermill": {
     "duration": 0.008295,
     "end_time": "2023-02-26T23:52:49.469006",
     "exception": false,
     "start_time": "2023-02-26T23:52:49.460711",
     "status": "completed"
    },
    "tags": []
   },
   "source": [
    "## Creating the model\n",
    "And also compiles the model so we can use it"
   ]
  },
  {
   "cell_type": "code",
   "execution_count": null,
   "id": "e717fe86",
   "metadata": {
    "execution": {
     "iopub.execute_input": "2023-02-26T23:43:28.312593Z",
     "iopub.status.busy": "2023-02-26T23:43:28.311560Z",
     "iopub.status.idle": "2023-02-26T23:43:28.531358Z",
     "shell.execute_reply": "2023-02-26T23:43:28.529789Z",
     "shell.execute_reply.started": "2023-02-26T23:43:28.312552Z"
    },
    "papermill": {
     "duration": 0.008307,
     "end_time": "2023-02-26T23:52:49.485989",
     "exception": false,
     "start_time": "2023-02-26T23:52:49.477682",
     "status": "completed"
    },
    "tags": []
   },
   "outputs": [],
   "source": []
  }
 ],
 "metadata": {
  "kernelspec": {
   "display_name": "Python 3",
   "language": "python",
   "name": "python3"
  },
  "language_info": {
   "codemirror_mode": {
    "name": "ipython",
    "version": 3
   },
   "file_extension": ".py",
   "mimetype": "text/x-python",
   "name": "python",
   "nbconvert_exporter": "python",
   "pygments_lexer": "ipython3",
   "version": "3.7.12"
  },
  "papermill": {
   "default_parameters": {},
   "duration": 146.063466,
   "end_time": "2023-02-26T23:52:52.447946",
   "environment_variables": {},
   "exception": null,
   "input_path": "__notebook__.ipynb",
   "output_path": "__notebook__.ipynb",
   "parameters": {},
   "start_time": "2023-02-26T23:50:26.384480",
   "version": "2.4.0"
  }
 },
 "nbformat": 4,
 "nbformat_minor": 5
}
